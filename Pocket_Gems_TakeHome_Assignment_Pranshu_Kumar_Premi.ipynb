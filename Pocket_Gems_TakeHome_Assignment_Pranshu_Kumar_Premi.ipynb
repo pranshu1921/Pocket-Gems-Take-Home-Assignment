{
 "cells": [
  {
   "cell_type": "markdown",
   "metadata": {},
   "source": [
    "#### Author: Pranshu Kumar Premi"
   ]
  },
  {
   "cell_type": "markdown",
   "metadata": {},
   "source": [
    "## Pocket Gems Take Home Assignment"
   ]
  },
  {
   "cell_type": "code",
   "execution_count": 1,
   "metadata": {},
   "outputs": [],
   "source": [
    "#importing required libraries\n",
    "import pandas as pd\n",
    "import numpy as np\n",
    "import matplotlib.pyplot as plt\n",
    "%matplotlib inline\n",
    "from sklearn.linear_model import LogisticRegression\n",
    "from sklearn.preprocessing import LabelEncoder\n",
    "from sklearn.ensemble import ExtraTreesRegressor\n",
    "from sklearn.model_selection import train_test_split\n",
    "from sklearn.preprocessing import StandardScaler\n",
    "from sklearn.linear_model import LogisticRegression\n",
    "from sklearn.neighbors import KNeighborsClassifier\n",
    "from sklearn.naive_bayes import GaussianNB\n",
    "from sklearn.metrics import confusion_matrix\n",
    "from sklearn.model_selection import cross_val_score\n",
    "from sklearn.metrics import accuracy_score \n",
    "from sklearn.metrics import f1_score, precision_score, recall_score, fbeta_score"
   ]
  },
  {
   "cell_type": "code",
   "execution_count": 2,
   "metadata": {},
   "outputs": [],
   "source": [
    "#reading user data\n",
    "gem1 = pd.read_csv('P:/Pocket Gems/iaps.csv')\n",
    "gem2 = pd.read_csv('P:/Pocket Gems/sessions.csv')\n",
    "gem3 = pd.read_csv('P:/Pocket Gems/spendevents.csv')\n",
    "gem4 = pd.read_csv('P:/Pocket Gems/users.csv')"
   ]
  },
  {
   "cell_type": "markdown",
   "metadata": {},
   "source": [
    "### Gem1 Data set"
   ]
  },
  {
   "cell_type": "code",
   "execution_count": 3,
   "metadata": {},
   "outputs": [
    {
     "data": {
      "text/html": [
       "<div>\n",
       "<style scoped>\n",
       "    .dataframe tbody tr th:only-of-type {\n",
       "        vertical-align: middle;\n",
       "    }\n",
       "\n",
       "    .dataframe tbody tr th {\n",
       "        vertical-align: top;\n",
       "    }\n",
       "\n",
       "    .dataframe thead th {\n",
       "        text-align: right;\n",
       "    }\n",
       "</style>\n",
       "<table border=\"1\" class=\"dataframe\">\n",
       "  <thead>\n",
       "    <tr style=\"text-align: right;\">\n",
       "      <th></th>\n",
       "      <th>user_id</th>\n",
       "      <th>ts</th>\n",
       "      <th>date</th>\n",
       "      <th>prod_name</th>\n",
       "      <th>prod_type</th>\n",
       "      <th>rev</th>\n",
       "    </tr>\n",
       "  </thead>\n",
       "  <tbody>\n",
       "    <tr>\n",
       "      <th>0</th>\n",
       "      <td>7480</td>\n",
       "      <td>2019-03-04 08:15:49</td>\n",
       "      <td>2019-03-04</td>\n",
       "      <td>iap_1_gems_2</td>\n",
       "      <td>gems</td>\n",
       "      <td>760</td>\n",
       "    </tr>\n",
       "    <tr>\n",
       "      <th>1</th>\n",
       "      <td>7480</td>\n",
       "      <td>2019-03-04 08:24:15</td>\n",
       "      <td>2019-03-04</td>\n",
       "      <td>iap_1_passes_2</td>\n",
       "      <td>chapterPasses</td>\n",
       "      <td>760</td>\n",
       "    </tr>\n",
       "    <tr>\n",
       "      <th>2</th>\n",
       "      <td>7480</td>\n",
       "      <td>2019-03-04 22:49:08</td>\n",
       "      <td>2019-03-04</td>\n",
       "      <td>iap_1_gems_1</td>\n",
       "      <td>gems</td>\n",
       "      <td>410</td>\n",
       "    </tr>\n",
       "    <tr>\n",
       "      <th>3</th>\n",
       "      <td>2466</td>\n",
       "      <td>2019-03-06 00:16:48</td>\n",
       "      <td>2019-03-06</td>\n",
       "      <td>iap_1_gems_2</td>\n",
       "      <td>gems</td>\n",
       "      <td>760</td>\n",
       "    </tr>\n",
       "    <tr>\n",
       "      <th>4</th>\n",
       "      <td>22001</td>\n",
       "      <td>2019-03-06 09:13:45</td>\n",
       "      <td>2019-03-06</td>\n",
       "      <td>iap_1_gems_2</td>\n",
       "      <td>gems</td>\n",
       "      <td>760</td>\n",
       "    </tr>\n",
       "  </tbody>\n",
       "</table>\n",
       "</div>"
      ],
      "text/plain": [
       "   user_id                   ts        date       prod_name      prod_type  \\\n",
       "0     7480  2019-03-04 08:15:49  2019-03-04    iap_1_gems_2           gems   \n",
       "1     7480  2019-03-04 08:24:15  2019-03-04  iap_1_passes_2  chapterPasses   \n",
       "2     7480  2019-03-04 22:49:08  2019-03-04    iap_1_gems_1           gems   \n",
       "3     2466  2019-03-06 00:16:48  2019-03-06    iap_1_gems_2           gems   \n",
       "4    22001  2019-03-06 09:13:45  2019-03-06    iap_1_gems_2           gems   \n",
       "\n",
       "   rev  \n",
       "0  760  \n",
       "1  760  \n",
       "2  410  \n",
       "3  760  \n",
       "4  760  "
      ]
     },
     "execution_count": 3,
     "metadata": {},
     "output_type": "execute_result"
    }
   ],
   "source": [
    "#fetching rows\n",
    "gem1.head()"
   ]
  },
  {
   "cell_type": "code",
   "execution_count": 4,
   "metadata": {},
   "outputs": [
    {
     "data": {
      "text/plain": [
       "(6685, 6)"
      ]
     },
     "execution_count": 4,
     "metadata": {},
     "output_type": "execute_result"
    }
   ],
   "source": [
    "#data dimensions\n",
    "gem1.shape"
   ]
  },
  {
   "cell_type": "code",
   "execution_count": 5,
   "metadata": {},
   "outputs": [
    {
     "data": {
      "text/html": [
       "<div>\n",
       "<style scoped>\n",
       "    .dataframe tbody tr th:only-of-type {\n",
       "        vertical-align: middle;\n",
       "    }\n",
       "\n",
       "    .dataframe tbody tr th {\n",
       "        vertical-align: top;\n",
       "    }\n",
       "\n",
       "    .dataframe thead th {\n",
       "        text-align: right;\n",
       "    }\n",
       "</style>\n",
       "<table border=\"1\" class=\"dataframe\">\n",
       "  <thead>\n",
       "    <tr style=\"text-align: right;\">\n",
       "      <th></th>\n",
       "      <th>user_id</th>\n",
       "      <th>chapter</th>\n",
       "      <th>amount</th>\n",
       "    </tr>\n",
       "    <tr>\n",
       "      <th>spendtype</th>\n",
       "      <th></th>\n",
       "      <th></th>\n",
       "      <th></th>\n",
       "    </tr>\n",
       "  </thead>\n",
       "  <tbody>\n",
       "    <tr>\n",
       "      <th>IAP</th>\n",
       "      <td>56116120</td>\n",
       "      <td>41509</td>\n",
       "      <td>-611197</td>\n",
       "    </tr>\n",
       "    <tr>\n",
       "      <th>earnGemsCounter</th>\n",
       "      <td>548201459</td>\n",
       "      <td>166896</td>\n",
       "      <td>-45843758</td>\n",
       "    </tr>\n",
       "    <tr>\n",
       "      <th>valuepack</th>\n",
       "      <td>332762</td>\n",
       "      <td>482</td>\n",
       "      <td>-8463</td>\n",
       "    </tr>\n",
       "  </tbody>\n",
       "</table>\n",
       "</div>"
      ],
      "text/plain": [
       "                   user_id  chapter    amount\n",
       "spendtype                                    \n",
       "IAP               56116120    41509   -611197\n",
       "earnGemsCounter  548201459   166896 -45843758\n",
       "valuepack           332762      482     -8463"
      ]
     },
     "execution_count": 5,
     "metadata": {},
     "output_type": "execute_result"
    }
   ],
   "source": [
    "#checking spentypes with negative amount\n",
    "gem3[gem3['amount'] < 0].groupby('spendtype').sum()"
   ]
  },
  {
   "cell_type": "code",
   "execution_count": 6,
   "metadata": {},
   "outputs": [
    {
     "data": {
      "text/plain": [
       "user_id       int64\n",
       "ts           object\n",
       "date         object\n",
       "prod_name    object\n",
       "prod_type    object\n",
       "rev           int64\n",
       "dtype: object"
      ]
     },
     "execution_count": 6,
     "metadata": {},
     "output_type": "execute_result"
    }
   ],
   "source": [
    "#gem1 data types\n",
    "gem1.dtypes"
   ]
  },
  {
   "cell_type": "code",
   "execution_count": 7,
   "metadata": {},
   "outputs": [
    {
     "name": "stdout",
     "output_type": "stream",
     "text": [
      "<class 'pandas.core.frame.DataFrame'>\n",
      "RangeIndex: 6685 entries, 0 to 6684\n",
      "Data columns (total 6 columns):\n",
      " #   Column     Non-Null Count  Dtype \n",
      "---  ------     --------------  ----- \n",
      " 0   user_id    6685 non-null   int64 \n",
      " 1   ts         6685 non-null   object\n",
      " 2   date       6685 non-null   object\n",
      " 3   prod_name  6685 non-null   object\n",
      " 4   prod_type  6685 non-null   object\n",
      " 5   rev        6685 non-null   int64 \n",
      "dtypes: int64(2), object(4)\n",
      "memory usage: 313.5+ KB\n"
     ]
    }
   ],
   "source": [
    "#gem1 data information\n",
    "gem1.info()"
   ]
  },
  {
   "cell_type": "code",
   "execution_count": 8,
   "metadata": {},
   "outputs": [
    {
     "data": {
      "text/plain": [
       "gems             4573\n",
       "chapterPasses    2029\n",
       "valuePack          83\n",
       "Name: prod_type, dtype: int64"
      ]
     },
     "execution_count": 8,
     "metadata": {},
     "output_type": "execute_result"
    }
   ],
   "source": [
    "#Product types\n",
    "gem1['prod_type'].value_counts()"
   ]
  },
  {
   "cell_type": "code",
   "execution_count": 9,
   "metadata": {},
   "outputs": [
    {
     "data": {
      "text/plain": [
       "1526"
      ]
     },
     "execution_count": 9,
     "metadata": {},
     "output_type": "execute_result"
    }
   ],
   "source": [
    "#number of users\n",
    "gem1['user_id'].nunique()"
   ]
  },
  {
   "cell_type": "code",
   "execution_count": 10,
   "metadata": {},
   "outputs": [
    {
     "data": {
      "text/plain": [
       "iap_1_gems_2          2599\n",
       "iap_1_passes_2        1064\n",
       "iap_1_gems_5           976\n",
       "iap_1_gems_1           693\n",
       "iap_1_passes_1         576\n",
       "iap_1_gems_10          231\n",
       "iap_1_passes_5         226\n",
       "iap_1_passes_10        163\n",
       "iap_1_gems_20           69\n",
       "iap_value_pack_004      46\n",
       "iap_value_pack_008      13\n",
       "iap_value_pack_001      12\n",
       "iap_value_pack_005       5\n",
       "iap_value_pack_010       3\n",
       "iap_1_gems_50            3\n",
       "iap_1_gems_100           2\n",
       "iap_value_pack_003       2\n",
       "iap_value_pack_009       1\n",
       "iap_value_pack_007       1\n",
       "Name: prod_name, dtype: int64"
      ]
     },
     "execution_count": 10,
     "metadata": {},
     "output_type": "execute_result"
    }
   ],
   "source": [
    "#list of Product names with counts\n",
    "gem1['prod_name'].value_counts()"
   ]
  },
  {
   "cell_type": "code",
   "execution_count": 11,
   "metadata": {},
   "outputs": [
    {
     "data": {
      "text/plain": [
       "35060"
      ]
     },
     "execution_count": 11,
     "metadata": {},
     "output_type": "execute_result"
    }
   ],
   "source": [
    "#highest revenue collected\n",
    "gem1['rev'].max()"
   ]
  },
  {
   "cell_type": "code",
   "execution_count": 12,
   "metadata": {},
   "outputs": [
    {
     "data": {
      "text/plain": [
       "410"
      ]
     },
     "execution_count": 12,
     "metadata": {},
     "output_type": "execute_result"
    }
   ],
   "source": [
    "#lowest revenue collected\n",
    "gem1['rev'].min()"
   ]
  },
  {
   "cell_type": "code",
   "execution_count": 13,
   "metadata": {},
   "outputs": [
    {
     "data": {
      "text/plain": [
       "user_id      0\n",
       "ts           0\n",
       "date         0\n",
       "prod_name    0\n",
       "prod_type    0\n",
       "rev          0\n",
       "dtype: int64"
      ]
     },
     "execution_count": 13,
     "metadata": {},
     "output_type": "execute_result"
    }
   ],
   "source": [
    "#checking missing values\n",
    "gem1.isnull().sum()"
   ]
  },
  {
   "cell_type": "code",
   "execution_count": 14,
   "metadata": {},
   "outputs": [
    {
     "data": {
      "text/html": [
       "<div>\n",
       "<style scoped>\n",
       "    .dataframe tbody tr th:only-of-type {\n",
       "        vertical-align: middle;\n",
       "    }\n",
       "\n",
       "    .dataframe tbody tr th {\n",
       "        vertical-align: top;\n",
       "    }\n",
       "\n",
       "    .dataframe thead th {\n",
       "        text-align: right;\n",
       "    }\n",
       "</style>\n",
       "<table border=\"1\" class=\"dataframe\">\n",
       "  <thead>\n",
       "    <tr style=\"text-align: right;\">\n",
       "      <th></th>\n",
       "      <th>user_id</th>\n",
       "      <th>rev</th>\n",
       "    </tr>\n",
       "  </thead>\n",
       "  <tbody>\n",
       "    <tr>\n",
       "      <th>count</th>\n",
       "      <td>6685.000000</td>\n",
       "      <td>6685.000000</td>\n",
       "    </tr>\n",
       "    <tr>\n",
       "      <th>mean</th>\n",
       "      <td>11374.928347</td>\n",
       "      <td>1141.134630</td>\n",
       "    </tr>\n",
       "    <tr>\n",
       "      <th>std</th>\n",
       "      <td>6509.850178</td>\n",
       "      <td>1201.682124</td>\n",
       "    </tr>\n",
       "    <tr>\n",
       "      <th>min</th>\n",
       "      <td>2.000000</td>\n",
       "      <td>410.000000</td>\n",
       "    </tr>\n",
       "    <tr>\n",
       "      <th>25%</th>\n",
       "      <td>6338.000000</td>\n",
       "      <td>760.000000</td>\n",
       "    </tr>\n",
       "    <tr>\n",
       "      <th>50%</th>\n",
       "      <td>11351.000000</td>\n",
       "      <td>760.000000</td>\n",
       "    </tr>\n",
       "    <tr>\n",
       "      <th>75%</th>\n",
       "      <td>16510.000000</td>\n",
       "      <td>1810.000000</td>\n",
       "    </tr>\n",
       "    <tr>\n",
       "      <th>max</th>\n",
       "      <td>22569.000000</td>\n",
       "      <td>35060.000000</td>\n",
       "    </tr>\n",
       "  </tbody>\n",
       "</table>\n",
       "</div>"
      ],
      "text/plain": [
       "            user_id           rev\n",
       "count   6685.000000   6685.000000\n",
       "mean   11374.928347   1141.134630\n",
       "std     6509.850178   1201.682124\n",
       "min        2.000000    410.000000\n",
       "25%     6338.000000    760.000000\n",
       "50%    11351.000000    760.000000\n",
       "75%    16510.000000   1810.000000\n",
       "max    22569.000000  35060.000000"
      ]
     },
     "execution_count": 14,
     "metadata": {},
     "output_type": "execute_result"
    }
   ],
   "source": [
    "#data summary\n",
    "gem1.describe()"
   ]
  },
  {
   "cell_type": "markdown",
   "metadata": {},
   "source": [
    "### 'Gem2' dataset"
   ]
  },
  {
   "cell_type": "code",
   "execution_count": 15,
   "metadata": {},
   "outputs": [
    {
     "data": {
      "text/html": [
       "<div>\n",
       "<style scoped>\n",
       "    .dataframe tbody tr th:only-of-type {\n",
       "        vertical-align: middle;\n",
       "    }\n",
       "\n",
       "    .dataframe tbody tr th {\n",
       "        vertical-align: top;\n",
       "    }\n",
       "\n",
       "    .dataframe thead th {\n",
       "        text-align: right;\n",
       "    }\n",
       "</style>\n",
       "<table border=\"1\" class=\"dataframe\">\n",
       "  <thead>\n",
       "    <tr style=\"text-align: right;\">\n",
       "      <th></th>\n",
       "      <th>user_id</th>\n",
       "      <th>ts</th>\n",
       "      <th>date</th>\n",
       "      <th>session_num</th>\n",
       "      <th>last_session_termination_type</th>\n",
       "    </tr>\n",
       "  </thead>\n",
       "  <tbody>\n",
       "    <tr>\n",
       "      <th>0</th>\n",
       "      <td>14067</td>\n",
       "      <td>2019-03-01 00:06:50</td>\n",
       "      <td>2019-03-01</td>\n",
       "      <td>1</td>\n",
       "      <td>NaN</td>\n",
       "    </tr>\n",
       "    <tr>\n",
       "      <th>1</th>\n",
       "      <td>14067</td>\n",
       "      <td>2019-03-01 00:22:27</td>\n",
       "      <td>2019-03-01</td>\n",
       "      <td>2</td>\n",
       "      <td>NaN</td>\n",
       "    </tr>\n",
       "    <tr>\n",
       "      <th>2</th>\n",
       "      <td>16275</td>\n",
       "      <td>2019-03-01 01:23:03</td>\n",
       "      <td>2019-03-01</td>\n",
       "      <td>1</td>\n",
       "      <td>NaN</td>\n",
       "    </tr>\n",
       "    <tr>\n",
       "      <th>3</th>\n",
       "      <td>16275</td>\n",
       "      <td>2019-03-01 01:31:16</td>\n",
       "      <td>2019-03-01</td>\n",
       "      <td>2</td>\n",
       "      <td>NaN</td>\n",
       "    </tr>\n",
       "    <tr>\n",
       "      <th>4</th>\n",
       "      <td>16275</td>\n",
       "      <td>2019-03-01 01:47:22</td>\n",
       "      <td>2019-03-01</td>\n",
       "      <td>3</td>\n",
       "      <td>NaN</td>\n",
       "    </tr>\n",
       "  </tbody>\n",
       "</table>\n",
       "</div>"
      ],
      "text/plain": [
       "   user_id                   ts        date  session_num  \\\n",
       "0    14067  2019-03-01 00:06:50  2019-03-01            1   \n",
       "1    14067  2019-03-01 00:22:27  2019-03-01            2   \n",
       "2    16275  2019-03-01 01:23:03  2019-03-01            1   \n",
       "3    16275  2019-03-01 01:31:16  2019-03-01            2   \n",
       "4    16275  2019-03-01 01:47:22  2019-03-01            3   \n",
       "\n",
       "   last_session_termination_type  \n",
       "0                            NaN  \n",
       "1                            NaN  \n",
       "2                            NaN  \n",
       "3                            NaN  \n",
       "4                            NaN  "
      ]
     },
     "execution_count": 15,
     "metadata": {},
     "output_type": "execute_result"
    }
   ],
   "source": [
    "#fetching 'gem2' rows\n",
    "gem2.head()"
   ]
  },
  {
   "cell_type": "code",
   "execution_count": 16,
   "metadata": {},
   "outputs": [
    {
     "data": {
      "text/plain": [
       "(722955, 5)"
      ]
     },
     "execution_count": 16,
     "metadata": {},
     "output_type": "execute_result"
    }
   ],
   "source": [
    "#'gem2' dimensions\n",
    "gem2.shape"
   ]
  },
  {
   "cell_type": "code",
   "execution_count": 17,
   "metadata": {},
   "outputs": [
    {
     "data": {
      "text/plain": [
       "user_id                            int64\n",
       "ts                                object\n",
       "date                              object\n",
       "session_num                        int64\n",
       "last_session_termination_type    float64\n",
       "dtype: object"
      ]
     },
     "execution_count": 17,
     "metadata": {},
     "output_type": "execute_result"
    }
   ],
   "source": [
    "#gem2 columns' datatypes\n",
    "gem2.dtypes"
   ]
  },
  {
   "cell_type": "code",
   "execution_count": 18,
   "metadata": {},
   "outputs": [
    {
     "name": "stdout",
     "output_type": "stream",
     "text": [
      "<class 'pandas.core.frame.DataFrame'>\n",
      "RangeIndex: 722955 entries, 0 to 722954\n",
      "Data columns (total 5 columns):\n",
      " #   Column                         Non-Null Count   Dtype  \n",
      "---  ------                         --------------   -----  \n",
      " 0   user_id                        722955 non-null  int64  \n",
      " 1   ts                             722955 non-null  object \n",
      " 2   date                           722955 non-null  object \n",
      " 3   session_num                    722955 non-null  int64  \n",
      " 4   last_session_termination_type  0 non-null       float64\n",
      "dtypes: float64(1), int64(2), object(2)\n",
      "memory usage: 27.6+ MB\n"
     ]
    }
   ],
   "source": [
    "# gem2 data infomration\n",
    "gem2.info()"
   ]
  },
  {
   "cell_type": "code",
   "execution_count": 19,
   "metadata": {},
   "outputs": [
    {
     "data": {
      "text/plain": [
       "user_id                               0\n",
       "ts                                    0\n",
       "date                                  0\n",
       "session_num                           0\n",
       "last_session_termination_type    722955\n",
       "dtype: int64"
      ]
     },
     "execution_count": 19,
     "metadata": {},
     "output_type": "execute_result"
    }
   ],
   "source": [
    "#checking for null values\n",
    "gem2.isnull().sum()"
   ]
  },
  {
   "cell_type": "code",
   "execution_count": 20,
   "metadata": {},
   "outputs": [],
   "source": [
    "#dropping column with only missing values\n",
    "gem2 = gem2.drop('last_session_termination_type', axis = 1)"
   ]
  },
  {
   "cell_type": "markdown",
   "metadata": {},
   "source": [
    "### 'Gem3' Data"
   ]
  },
  {
   "cell_type": "code",
   "execution_count": 21,
   "metadata": {},
   "outputs": [
    {
     "data": {
      "text/html": [
       "<div>\n",
       "<style scoped>\n",
       "    .dataframe tbody tr th:only-of-type {\n",
       "        vertical-align: middle;\n",
       "    }\n",
       "\n",
       "    .dataframe tbody tr th {\n",
       "        vertical-align: top;\n",
       "    }\n",
       "\n",
       "    .dataframe thead th {\n",
       "        text-align: right;\n",
       "    }\n",
       "</style>\n",
       "<table border=\"1\" class=\"dataframe\">\n",
       "  <thead>\n",
       "    <tr style=\"text-align: right;\">\n",
       "      <th></th>\n",
       "      <th>user_id</th>\n",
       "      <th>ts</th>\n",
       "      <th>date</th>\n",
       "      <th>story</th>\n",
       "      <th>chapter</th>\n",
       "      <th>spendtype</th>\n",
       "      <th>currency</th>\n",
       "      <th>amount</th>\n",
       "    </tr>\n",
       "  </thead>\n",
       "  <tbody>\n",
       "    <tr>\n",
       "      <th>0</th>\n",
       "      <td>9829</td>\n",
       "      <td>2019-03-01 03:03:04</td>\n",
       "      <td>2019-03-01</td>\n",
       "      <td>story_1</td>\n",
       "      <td>0</td>\n",
       "      <td>earnGemsCounter</td>\n",
       "      <td>gems</td>\n",
       "      <td>-22</td>\n",
       "    </tr>\n",
       "    <tr>\n",
       "      <th>1</th>\n",
       "      <td>13757</td>\n",
       "      <td>2019-03-01 03:35:53</td>\n",
       "      <td>2019-03-01</td>\n",
       "      <td>story_1</td>\n",
       "      <td>0</td>\n",
       "      <td>earnGemsCounter</td>\n",
       "      <td>gems</td>\n",
       "      <td>-22</td>\n",
       "    </tr>\n",
       "    <tr>\n",
       "      <th>2</th>\n",
       "      <td>13757</td>\n",
       "      <td>2019-03-01 03:52:10</td>\n",
       "      <td>2019-03-01</td>\n",
       "      <td>story_2</td>\n",
       "      <td>0</td>\n",
       "      <td>earnGemsCounter</td>\n",
       "      <td>gems</td>\n",
       "      <td>-22</td>\n",
       "    </tr>\n",
       "    <tr>\n",
       "      <th>3</th>\n",
       "      <td>10009</td>\n",
       "      <td>2019-03-01 04:10:00</td>\n",
       "      <td>2019-03-01</td>\n",
       "      <td>story_1</td>\n",
       "      <td>0</td>\n",
       "      <td>earnGemsCounter</td>\n",
       "      <td>gems</td>\n",
       "      <td>-22</td>\n",
       "    </tr>\n",
       "    <tr>\n",
       "      <th>4</th>\n",
       "      <td>10009</td>\n",
       "      <td>2019-03-01 04:26:46</td>\n",
       "      <td>2019-03-01</td>\n",
       "      <td>story_2</td>\n",
       "      <td>0</td>\n",
       "      <td>earnGemsCounter</td>\n",
       "      <td>gems</td>\n",
       "      <td>-22</td>\n",
       "    </tr>\n",
       "  </tbody>\n",
       "</table>\n",
       "</div>"
      ],
      "text/plain": [
       "   user_id                   ts        date    story  chapter  \\\n",
       "0     9829  2019-03-01 03:03:04  2019-03-01  story_1        0   \n",
       "1    13757  2019-03-01 03:35:53  2019-03-01  story_1        0   \n",
       "2    13757  2019-03-01 03:52:10  2019-03-01  story_2        0   \n",
       "3    10009  2019-03-01 04:10:00  2019-03-01  story_1        0   \n",
       "4    10009  2019-03-01 04:26:46  2019-03-01  story_2        0   \n",
       "\n",
       "         spendtype currency  amount  \n",
       "0  earnGemsCounter     gems     -22  \n",
       "1  earnGemsCounter     gems     -22  \n",
       "2  earnGemsCounter     gems     -22  \n",
       "3  earnGemsCounter     gems     -22  \n",
       "4  earnGemsCounter     gems     -22  "
      ]
     },
     "execution_count": 21,
     "metadata": {},
     "output_type": "execute_result"
    }
   ],
   "source": [
    "#fetching rows\n",
    "gem3.head()"
   ]
  },
  {
   "cell_type": "code",
   "execution_count": 22,
   "metadata": {},
   "outputs": [
    {
     "data": {
      "text/plain": [
       "(107764, 8)"
      ]
     },
     "execution_count": 22,
     "metadata": {},
     "output_type": "execute_result"
    }
   ],
   "source": [
    "#'gem3' data dimensions\n",
    "gem3.shape"
   ]
  },
  {
   "cell_type": "code",
   "execution_count": 23,
   "metadata": {},
   "outputs": [
    {
     "name": "stdout",
     "output_type": "stream",
     "text": [
      "<class 'pandas.core.frame.DataFrame'>\n",
      "RangeIndex: 107764 entries, 0 to 107763\n",
      "Data columns (total 8 columns):\n",
      " #   Column     Non-Null Count   Dtype \n",
      "---  ------     --------------   ----- \n",
      " 0   user_id    107764 non-null  int64 \n",
      " 1   ts         107764 non-null  object\n",
      " 2   date       107764 non-null  object\n",
      " 3   story      107764 non-null  object\n",
      " 4   chapter    107764 non-null  int64 \n",
      " 5   spendtype  106420 non-null  object\n",
      " 6   currency   107764 non-null  object\n",
      " 7   amount     107764 non-null  int64 \n",
      "dtypes: int64(3), object(5)\n",
      "memory usage: 6.6+ MB\n"
     ]
    }
   ],
   "source": [
    "#Gem3 data information\n",
    "gem3.info()"
   ]
  },
  {
   "cell_type": "code",
   "execution_count": 24,
   "metadata": {},
   "outputs": [
    {
     "data": {
      "text/plain": [
       "user_id       int64\n",
       "ts           object\n",
       "date         object\n",
       "story        object\n",
       "chapter       int64\n",
       "spendtype    object\n",
       "currency     object\n",
       "amount        int64\n",
       "dtype: object"
      ]
     },
     "execution_count": 24,
     "metadata": {},
     "output_type": "execute_result"
    }
   ],
   "source": [
    "#checking datatypes\n",
    "gem3.dtypes"
   ]
  },
  {
   "cell_type": "code",
   "execution_count": 25,
   "metadata": {},
   "outputs": [
    {
     "data": {
      "text/html": [
       "<div>\n",
       "<style scoped>\n",
       "    .dataframe tbody tr th:only-of-type {\n",
       "        vertical-align: middle;\n",
       "    }\n",
       "\n",
       "    .dataframe tbody tr th {\n",
       "        vertical-align: top;\n",
       "    }\n",
       "\n",
       "    .dataframe thead th {\n",
       "        text-align: right;\n",
       "    }\n",
       "</style>\n",
       "<table border=\"1\" class=\"dataframe\">\n",
       "  <thead>\n",
       "    <tr style=\"text-align: right;\">\n",
       "      <th></th>\n",
       "      <th>user_id</th>\n",
       "      <th>ts</th>\n",
       "      <th>date</th>\n",
       "      <th>story</th>\n",
       "      <th>chapter</th>\n",
       "      <th>spendtype</th>\n",
       "      <th>currency</th>\n",
       "      <th>amount</th>\n",
       "    </tr>\n",
       "  </thead>\n",
       "  <tbody>\n",
       "    <tr>\n",
       "      <th>15726</th>\n",
       "      <td>2062</td>\n",
       "      <td>2019-03-03 04:24:58</td>\n",
       "      <td>2019-03-03</td>\n",
       "      <td>story_1</td>\n",
       "      <td>8</td>\n",
       "      <td>premiumChoice</td>\n",
       "      <td>gems</td>\n",
       "      <td>27</td>\n",
       "    </tr>\n",
       "    <tr>\n",
       "      <th>15725</th>\n",
       "      <td>2062</td>\n",
       "      <td>2019-03-03 04:07:37</td>\n",
       "      <td>2019-03-03</td>\n",
       "      <td>story_1</td>\n",
       "      <td>6</td>\n",
       "      <td>premiumChoice</td>\n",
       "      <td>gems</td>\n",
       "      <td>55</td>\n",
       "    </tr>\n",
       "    <tr>\n",
       "      <th>15724</th>\n",
       "      <td>2062</td>\n",
       "      <td>2019-03-03 04:07:34</td>\n",
       "      <td>2019-03-03</td>\n",
       "      <td>story_1</td>\n",
       "      <td>6</td>\n",
       "      <td>IAP</td>\n",
       "      <td>gems</td>\n",
       "      <td>-73</td>\n",
       "    </tr>\n",
       "    <tr>\n",
       "      <th>15723</th>\n",
       "      <td>2062</td>\n",
       "      <td>2019-03-03 03:51:00</td>\n",
       "      <td>2019-03-03</td>\n",
       "      <td>story_1</td>\n",
       "      <td>5</td>\n",
       "      <td>premiumChoice</td>\n",
       "      <td>gems</td>\n",
       "      <td>64</td>\n",
       "    </tr>\n",
       "    <tr>\n",
       "      <th>15722</th>\n",
       "      <td>2062</td>\n",
       "      <td>2019-03-03 03:50:58</td>\n",
       "      <td>2019-03-03</td>\n",
       "      <td>story_1</td>\n",
       "      <td>5</td>\n",
       "      <td>IAP</td>\n",
       "      <td>gems</td>\n",
       "      <td>-73</td>\n",
       "    </tr>\n",
       "    <tr>\n",
       "      <th>15721</th>\n",
       "      <td>2062</td>\n",
       "      <td>2019-03-03 03:50:45</td>\n",
       "      <td>2019-03-03</td>\n",
       "      <td>story_1</td>\n",
       "      <td>5</td>\n",
       "      <td>IAP</td>\n",
       "      <td>gems</td>\n",
       "      <td>-73</td>\n",
       "    </tr>\n",
       "    <tr>\n",
       "      <th>15694</th>\n",
       "      <td>2062</td>\n",
       "      <td>2019-03-02 20:01:22</td>\n",
       "      <td>2019-03-03</td>\n",
       "      <td>story_1</td>\n",
       "      <td>0</td>\n",
       "      <td>earnGemsCounter</td>\n",
       "      <td>gems</td>\n",
       "      <td>-22</td>\n",
       "    </tr>\n",
       "  </tbody>\n",
       "</table>\n",
       "</div>"
      ],
      "text/plain": [
       "       user_id                   ts        date    story  chapter  \\\n",
       "15726     2062  2019-03-03 04:24:58  2019-03-03  story_1        8   \n",
       "15725     2062  2019-03-03 04:07:37  2019-03-03  story_1        6   \n",
       "15724     2062  2019-03-03 04:07:34  2019-03-03  story_1        6   \n",
       "15723     2062  2019-03-03 03:51:00  2019-03-03  story_1        5   \n",
       "15722     2062  2019-03-03 03:50:58  2019-03-03  story_1        5   \n",
       "15721     2062  2019-03-03 03:50:45  2019-03-03  story_1        5   \n",
       "15694     2062  2019-03-02 20:01:22  2019-03-03  story_1        0   \n",
       "\n",
       "             spendtype currency  amount  \n",
       "15726    premiumChoice     gems      27  \n",
       "15725    premiumChoice     gems      55  \n",
       "15724              IAP     gems     -73  \n",
       "15723    premiumChoice     gems      64  \n",
       "15722              IAP     gems     -73  \n",
       "15721              IAP     gems     -73  \n",
       "15694  earnGemsCounter     gems     -22  "
      ]
     },
     "execution_count": 25,
     "metadata": {},
     "output_type": "execute_result"
    }
   ],
   "source": [
    "#user id 2062's spending summary\n",
    "gem3[gem3['user_id'] == 2062].sort_values(by = 'ts', ascending = False)"
   ]
  },
  {
   "cell_type": "code",
   "execution_count": 26,
   "metadata": {},
   "outputs": [
    {
     "data": {
      "text/plain": [
       "4148"
      ]
     },
     "execution_count": 26,
     "metadata": {},
     "output_type": "execute_result"
    }
   ],
   "source": [
    "#number of users spending Gems\n",
    "gem3[gem3['spendtype'] == 'premiumChoice']['user_id'].nunique()"
   ]
  },
  {
   "cell_type": "code",
   "execution_count": 27,
   "metadata": {},
   "outputs": [
    {
     "data": {
      "text/plain": [
       "17996"
      ]
     },
     "execution_count": 27,
     "metadata": {},
     "output_type": "execute_result"
    }
   ],
   "source": [
    "#number of users earning Gems\n",
    "gem3[gem3['spendtype'] == 'earnGemsCounter']['user_id'].nunique()"
   ]
  },
  {
   "cell_type": "code",
   "execution_count": 28,
   "metadata": {},
   "outputs": [
    {
     "data": {
      "text/plain": [
       "1181"
      ]
     },
     "execution_count": 28,
     "metadata": {},
     "output_type": "execute_result"
    }
   ],
   "source": [
    "#number of users purchasing Gems\n",
    "gem3[gem3['spendtype'] == 'IAP']['user_id'].nunique()"
   ]
  },
  {
   "cell_type": "code",
   "execution_count": 29,
   "metadata": {},
   "outputs": [
    {
     "data": {
      "text/plain": [
       "earnGemsCounter    87235\n",
       "premiumChoice      14231\n",
       "IAP                 4915\n",
       "valuepack             39\n",
       "Name: spendtype, dtype: int64"
      ]
     },
     "execution_count": 29,
     "metadata": {},
     "output_type": "execute_result"
    }
   ],
   "source": [
    "#users distribution across spendtypes\n",
    "gem3['spendtype'].value_counts()"
   ]
  },
  {
   "cell_type": "code",
   "execution_count": 30,
   "metadata": {},
   "outputs": [
    {
     "name": "stderr",
     "output_type": "stream",
     "text": [
      "<ipython-input-30-7aba53f27429>:2: UserWarning: Boolean Series key will be reindexed to match DataFrame index.\n",
      "  gem3[gem3['spendtype'] == 'valuepack'][gem3['amount'] >= 0]\n"
     ]
    },
    {
     "data": {
      "text/html": [
       "<div>\n",
       "<style scoped>\n",
       "    .dataframe tbody tr th:only-of-type {\n",
       "        vertical-align: middle;\n",
       "    }\n",
       "\n",
       "    .dataframe tbody tr th {\n",
       "        vertical-align: top;\n",
       "    }\n",
       "\n",
       "    .dataframe thead th {\n",
       "        text-align: right;\n",
       "    }\n",
       "</style>\n",
       "<table border=\"1\" class=\"dataframe\">\n",
       "  <thead>\n",
       "    <tr style=\"text-align: right;\">\n",
       "      <th></th>\n",
       "      <th>user_id</th>\n",
       "      <th>ts</th>\n",
       "      <th>date</th>\n",
       "      <th>story</th>\n",
       "      <th>chapter</th>\n",
       "      <th>spendtype</th>\n",
       "      <th>currency</th>\n",
       "      <th>amount</th>\n",
       "    </tr>\n",
       "  </thead>\n",
       "  <tbody>\n",
       "  </tbody>\n",
       "</table>\n",
       "</div>"
      ],
      "text/plain": [
       "Empty DataFrame\n",
       "Columns: [user_id, ts, date, story, chapter, spendtype, currency, amount]\n",
       "Index: []"
      ]
     },
     "execution_count": 30,
     "metadata": {},
     "output_type": "execute_result"
    }
   ],
   "source": [
    "#Checking effect of users choosing 'valuepack' on 'amount'\n",
    "gem3[gem3['spendtype'] == 'valuepack'][gem3['amount'] >= 0]"
   ]
  },
  {
   "cell_type": "code",
   "execution_count": 31,
   "metadata": {},
   "outputs": [
    {
     "name": "stderr",
     "output_type": "stream",
     "text": [
      "<ipython-input-31-838bf0f8e1a9>:2: UserWarning: Boolean Series key will be reindexed to match DataFrame index.\n",
      "  gem3[gem3['spendtype'] == 'premiumChoice'][gem3['amount'] <= 0]\n"
     ]
    },
    {
     "data": {
      "text/html": [
       "<div>\n",
       "<style scoped>\n",
       "    .dataframe tbody tr th:only-of-type {\n",
       "        vertical-align: middle;\n",
       "    }\n",
       "\n",
       "    .dataframe tbody tr th {\n",
       "        vertical-align: top;\n",
       "    }\n",
       "\n",
       "    .dataframe thead th {\n",
       "        text-align: right;\n",
       "    }\n",
       "</style>\n",
       "<table border=\"1\" class=\"dataframe\">\n",
       "  <thead>\n",
       "    <tr style=\"text-align: right;\">\n",
       "      <th></th>\n",
       "      <th>user_id</th>\n",
       "      <th>ts</th>\n",
       "      <th>date</th>\n",
       "      <th>story</th>\n",
       "      <th>chapter</th>\n",
       "      <th>spendtype</th>\n",
       "      <th>currency</th>\n",
       "      <th>amount</th>\n",
       "    </tr>\n",
       "  </thead>\n",
       "  <tbody>\n",
       "  </tbody>\n",
       "</table>\n",
       "</div>"
      ],
      "text/plain": [
       "Empty DataFrame\n",
       "Columns: [user_id, ts, date, story, chapter, spendtype, currency, amount]\n",
       "Index: []"
      ]
     },
     "execution_count": 31,
     "metadata": {},
     "output_type": "execute_result"
    }
   ],
   "source": [
    "#checking effect of users choosing 'premiumChoice' on 'amount'\n",
    "gem3[gem3['spendtype'] == 'premiumChoice'][gem3['amount'] <= 0]"
   ]
  },
  {
   "cell_type": "code",
   "execution_count": 32,
   "metadata": {},
   "outputs": [
    {
     "data": {
      "text/plain": [
       "user_id         0\n",
       "ts              0\n",
       "date            0\n",
       "story           0\n",
       "chapter         0\n",
       "spendtype    1344\n",
       "currency        0\n",
       "amount          0\n",
       "dtype: int64"
      ]
     },
     "execution_count": 32,
     "metadata": {},
     "output_type": "execute_result"
    }
   ],
   "source": [
    "gem3.isnull().sum()"
   ]
  },
  {
   "cell_type": "markdown",
   "metadata": {},
   "source": [
    "Since, we have less than 1% data that contains missing values, we opt to drop these rows."
   ]
  },
  {
   "cell_type": "code",
   "execution_count": 33,
   "metadata": {},
   "outputs": [],
   "source": [
    "#dropping rows with null values\n",
    "gem3.dropna(axis=0, inplace = True)"
   ]
  },
  {
   "cell_type": "markdown",
   "metadata": {},
   "source": [
    "### 'Gem4' data"
   ]
  },
  {
   "cell_type": "code",
   "execution_count": 34,
   "metadata": {},
   "outputs": [
    {
     "data": {
      "text/html": [
       "<div>\n",
       "<style scoped>\n",
       "    .dataframe tbody tr th:only-of-type {\n",
       "        vertical-align: middle;\n",
       "    }\n",
       "\n",
       "    .dataframe tbody tr th {\n",
       "        vertical-align: top;\n",
       "    }\n",
       "\n",
       "    .dataframe thead th {\n",
       "        text-align: right;\n",
       "    }\n",
       "</style>\n",
       "<table border=\"1\" class=\"dataframe\">\n",
       "  <thead>\n",
       "    <tr style=\"text-align: right;\">\n",
       "      <th></th>\n",
       "      <th>user_id</th>\n",
       "      <th>install_date</th>\n",
       "      <th>lang</th>\n",
       "      <th>country</th>\n",
       "      <th>hw_ver</th>\n",
       "      <th>os_ver</th>\n",
       "    </tr>\n",
       "  </thead>\n",
       "  <tbody>\n",
       "    <tr>\n",
       "      <th>0</th>\n",
       "      <td>0</td>\n",
       "      <td>2019-03-01</td>\n",
       "      <td>en</td>\n",
       "      <td>US</td>\n",
       "      <td>iPhone4,1</td>\n",
       "      <td>9.1</td>\n",
       "    </tr>\n",
       "    <tr>\n",
       "      <th>1</th>\n",
       "      <td>1</td>\n",
       "      <td>2019-03-01</td>\n",
       "      <td>en</td>\n",
       "      <td>IN</td>\n",
       "      <td>iPod5,1</td>\n",
       "      <td>8.1.2</td>\n",
       "    </tr>\n",
       "    <tr>\n",
       "      <th>2</th>\n",
       "      <td>2</td>\n",
       "      <td>2019-03-06</td>\n",
       "      <td>en</td>\n",
       "      <td>US</td>\n",
       "      <td>iPod7,1</td>\n",
       "      <td>8.4.1</td>\n",
       "    </tr>\n",
       "    <tr>\n",
       "      <th>3</th>\n",
       "      <td>3</td>\n",
       "      <td>2019-03-03</td>\n",
       "      <td>nb</td>\n",
       "      <td>NO</td>\n",
       "      <td>iPhone8,1</td>\n",
       "      <td>9.2.1</td>\n",
       "    </tr>\n",
       "    <tr>\n",
       "      <th>4</th>\n",
       "      <td>4</td>\n",
       "      <td>2019-03-03</td>\n",
       "      <td>en</td>\n",
       "      <td>GB</td>\n",
       "      <td>iPhone5,4</td>\n",
       "      <td>9.2.1</td>\n",
       "    </tr>\n",
       "  </tbody>\n",
       "</table>\n",
       "</div>"
      ],
      "text/plain": [
       "   user_id install_date lang country     hw_ver os_ver\n",
       "0        0   2019-03-01   en      US  iPhone4,1    9.1\n",
       "1        1   2019-03-01   en      IN    iPod5,1  8.1.2\n",
       "2        2   2019-03-06   en      US    iPod7,1  8.4.1\n",
       "3        3   2019-03-03   nb      NO  iPhone8,1  9.2.1\n",
       "4        4   2019-03-03   en      GB  iPhone5,4  9.2.1"
      ]
     },
     "execution_count": 34,
     "metadata": {},
     "output_type": "execute_result"
    }
   ],
   "source": [
    "#fetching rows\n",
    "gem4.head()"
   ]
  },
  {
   "cell_type": "code",
   "execution_count": 35,
   "metadata": {},
   "outputs": [
    {
     "data": {
      "text/plain": [
       "(22576, 6)"
      ]
     },
     "execution_count": 35,
     "metadata": {},
     "output_type": "execute_result"
    }
   ],
   "source": [
    "#checking data dimensions\n",
    "gem4.shape"
   ]
  },
  {
   "cell_type": "code",
   "execution_count": 36,
   "metadata": {},
   "outputs": [
    {
     "name": "stdout",
     "output_type": "stream",
     "text": [
      "<class 'pandas.core.frame.DataFrame'>\n",
      "RangeIndex: 22576 entries, 0 to 22575\n",
      "Data columns (total 6 columns):\n",
      " #   Column        Non-Null Count  Dtype \n",
      "---  ------        --------------  ----- \n",
      " 0   user_id       22576 non-null  int64 \n",
      " 1   install_date  22576 non-null  object\n",
      " 2   lang          22576 non-null  object\n",
      " 3   country       22564 non-null  object\n",
      " 4   hw_ver        22576 non-null  object\n",
      " 5   os_ver        22576 non-null  object\n",
      "dtypes: int64(1), object(5)\n",
      "memory usage: 1.0+ MB\n"
     ]
    }
   ],
   "source": [
    "#data information\n",
    "gem4.info()"
   ]
  },
  {
   "cell_type": "code",
   "execution_count": 37,
   "metadata": {},
   "outputs": [
    {
     "data": {
      "text/plain": [
       "user_id          int64\n",
       "install_date    object\n",
       "lang            object\n",
       "country         object\n",
       "hw_ver          object\n",
       "os_ver          object\n",
       "dtype: object"
      ]
     },
     "execution_count": 37,
     "metadata": {},
     "output_type": "execute_result"
    }
   ],
   "source": [
    "#checking datatypes\n",
    "gem4.dtypes"
   ]
  },
  {
   "cell_type": "code",
   "execution_count": 38,
   "metadata": {},
   "outputs": [
    {
     "data": {
      "text/plain": [
       "US    11710\n",
       "GB     2419\n",
       "CA      982\n",
       "AU      867\n",
       "PH      414\n",
       "ID      332\n",
       "NL      275\n",
       "RU      251\n",
       "TR      247\n",
       "NO      241\n",
       "Name: country, dtype: int64"
      ]
     },
     "execution_count": 38,
     "metadata": {},
     "output_type": "execute_result"
    }
   ],
   "source": [
    "#Top 10 countries of users\n",
    "gem4.country.value_counts().sort_values(ascending = False).head(10)"
   ]
  },
  {
   "cell_type": "code",
   "execution_count": 39,
   "metadata": {},
   "outputs": [
    {
     "data": {
      "text/plain": [
       "en    18194\n",
       "es      622\n",
       "fr      386\n",
       "de      346\n",
       "nl      320\n",
       "ru      257\n",
       "pt      236\n",
       "nb      224\n",
       "tr      215\n",
       "ar      194\n",
       "Name: lang, dtype: int64"
      ]
     },
     "execution_count": 39,
     "metadata": {},
     "output_type": "execute_result"
    }
   ],
   "source": [
    "#Top 10 languages of users\n",
    "gem4.lang.value_counts().sort_values(ascending = False).head(10)"
   ]
  },
  {
   "cell_type": "code",
   "execution_count": 40,
   "metadata": {},
   "outputs": [
    {
     "data": {
      "text/plain": [
       "iPhone7,2    3817\n",
       "iPhone8,1    2854\n",
       "iPhone6,1    2207\n",
       "iPhone6,2    1483\n",
       "iPhone5,2    1101\n",
       "iPhone5,3    1010\n",
       "iPad2,5      1004\n",
       "iPhone7,1     986\n",
       "iPhone8,2     904\n",
       "iPhone4,1     844\n",
       "Name: hw_ver, dtype: int64"
      ]
     },
     "execution_count": 40,
     "metadata": {},
     "output_type": "execute_result"
    }
   ],
   "source": [
    "#Top 10 iphone models used by users\n",
    "gem4['hw_ver'].value_counts().sort_values(ascending = False).head(10)"
   ]
  },
  {
   "cell_type": "code",
   "execution_count": 41,
   "metadata": {},
   "outputs": [
    {
     "data": {
      "text/plain": [
       "9.2.1    15038\n",
       "9.2       2322\n",
       "9.1       1612\n",
       "7.1.2      770\n",
       "8.3        485\n",
       "8.4.1      398\n",
       "8.4        383\n",
       "9.0.2      283\n",
       "8.1.2      160\n",
       "9.3        136\n",
       "Name: os_ver, dtype: int64"
      ]
     },
     "execution_count": 41,
     "metadata": {},
     "output_type": "execute_result"
    }
   ],
   "source": [
    "#Top 10 iOS versions used by users\n",
    "gem4['os_ver'].value_counts().sort_values(ascending = False).head(10)"
   ]
  },
  {
   "cell_type": "markdown",
   "metadata": {},
   "source": [
    "We will be targeting the users with spendType as **'earnGemsCounter','IAP', and 'valuepack'** who are making gems flow **out of company's bank account !!**<br>\n",
    "<br>\n",
    "The users that selected **'premiumChoice'** will not be considered as they already are contributing towards positive amount."
   ]
  },
  {
   "cell_type": "markdown",
   "metadata": {},
   "source": [
    "The dataset **'spendevents.csv'** labelled as **'gem3'** seems a decent dataset to be used for training the machine learning model.\n",
    "we are basically dealing with a **classification problem** where we analyze whether the **target group will end up spending gems or not.**<br>\n",
    "<br>\n",
    "We are selecting the **'spendType'** feature as the **target variable.**<br>\n",
    "<br>\n",
    "The **'spendType'** variable has basically **4 classes**, and we are trying to predict the **probability of user falling into the 'premiumChoice' category in the future**.<br>\n",
    "<br>\n",
    "<br>\n",
    "\n",
    "**Note on Approach -**<br><br>\n",
    "**We could have considered this as a situation for multiclass classification, but we are more interested in finding people that may end up purchasing gems using their own account, and the all other classes except 'premiumChoice' do not contribute positively to the 'amount' feature, so we are considering all those classes as class '0' and 'premiumChoice' as class '1'.**"
   ]
  },
  {
   "cell_type": "code",
   "execution_count": 42,
   "metadata": {},
   "outputs": [],
   "source": [
    "#Labelling Target variables\n",
    "gem3['spendtype'].replace({'earnGemsCounter': 0, 'IAP': 0, 'valuepack': 0, 'premiumChoice': 1}, inplace = True)"
   ]
  },
  {
   "cell_type": "markdown",
   "metadata": {},
   "source": [
    "The **'date'** columne seems to have **high cardinality**, that may affect model performance. So it would be better to separate date components separately as new features."
   ]
  },
  {
   "cell_type": "code",
   "execution_count": 43,
   "metadata": {},
   "outputs": [],
   "source": [
    "#converting 'data' column to datetime\n",
    "gem3['date'] = pd.to_datetime(gem3['date'])"
   ]
  },
  {
   "cell_type": "code",
   "execution_count": 44,
   "metadata": {},
   "outputs": [],
   "source": [
    "#separating date components for reducing feature cardinality\n",
    "gem3['year'] = gem3['date'].dt.year\n",
    "gem3['month'] = gem3['date'].dt.month\n",
    "gem3['day'] = gem3['date'].dt.day"
   ]
  },
  {
   "cell_type": "code",
   "execution_count": 45,
   "metadata": {},
   "outputs": [
    {
     "data": {
      "text/html": [
       "<div>\n",
       "<style scoped>\n",
       "    .dataframe tbody tr th:only-of-type {\n",
       "        vertical-align: middle;\n",
       "    }\n",
       "\n",
       "    .dataframe tbody tr th {\n",
       "        vertical-align: top;\n",
       "    }\n",
       "\n",
       "    .dataframe thead th {\n",
       "        text-align: right;\n",
       "    }\n",
       "</style>\n",
       "<table border=\"1\" class=\"dataframe\">\n",
       "  <thead>\n",
       "    <tr style=\"text-align: right;\">\n",
       "      <th></th>\n",
       "      <th>user_id</th>\n",
       "      <th>ts</th>\n",
       "      <th>story</th>\n",
       "      <th>chapter</th>\n",
       "      <th>spendtype</th>\n",
       "      <th>currency</th>\n",
       "      <th>amount</th>\n",
       "      <th>year</th>\n",
       "      <th>month</th>\n",
       "      <th>day</th>\n",
       "    </tr>\n",
       "  </thead>\n",
       "  <tbody>\n",
       "    <tr>\n",
       "      <th>0</th>\n",
       "      <td>9829</td>\n",
       "      <td>2019-03-01 03:03:04</td>\n",
       "      <td>story_1</td>\n",
       "      <td>0</td>\n",
       "      <td>0</td>\n",
       "      <td>gems</td>\n",
       "      <td>-22</td>\n",
       "      <td>2019</td>\n",
       "      <td>3</td>\n",
       "      <td>1</td>\n",
       "    </tr>\n",
       "    <tr>\n",
       "      <th>1</th>\n",
       "      <td>13757</td>\n",
       "      <td>2019-03-01 03:35:53</td>\n",
       "      <td>story_1</td>\n",
       "      <td>0</td>\n",
       "      <td>0</td>\n",
       "      <td>gems</td>\n",
       "      <td>-22</td>\n",
       "      <td>2019</td>\n",
       "      <td>3</td>\n",
       "      <td>1</td>\n",
       "    </tr>\n",
       "    <tr>\n",
       "      <th>2</th>\n",
       "      <td>13757</td>\n",
       "      <td>2019-03-01 03:52:10</td>\n",
       "      <td>story_2</td>\n",
       "      <td>0</td>\n",
       "      <td>0</td>\n",
       "      <td>gems</td>\n",
       "      <td>-22</td>\n",
       "      <td>2019</td>\n",
       "      <td>3</td>\n",
       "      <td>1</td>\n",
       "    </tr>\n",
       "    <tr>\n",
       "      <th>3</th>\n",
       "      <td>10009</td>\n",
       "      <td>2019-03-01 04:10:00</td>\n",
       "      <td>story_1</td>\n",
       "      <td>0</td>\n",
       "      <td>0</td>\n",
       "      <td>gems</td>\n",
       "      <td>-22</td>\n",
       "      <td>2019</td>\n",
       "      <td>3</td>\n",
       "      <td>1</td>\n",
       "    </tr>\n",
       "    <tr>\n",
       "      <th>4</th>\n",
       "      <td>10009</td>\n",
       "      <td>2019-03-01 04:26:46</td>\n",
       "      <td>story_2</td>\n",
       "      <td>0</td>\n",
       "      <td>0</td>\n",
       "      <td>gems</td>\n",
       "      <td>-22</td>\n",
       "      <td>2019</td>\n",
       "      <td>3</td>\n",
       "      <td>1</td>\n",
       "    </tr>\n",
       "  </tbody>\n",
       "</table>\n",
       "</div>"
      ],
      "text/plain": [
       "   user_id                   ts    story  chapter  spendtype currency  amount  \\\n",
       "0     9829  2019-03-01 03:03:04  story_1        0          0     gems     -22   \n",
       "1    13757  2019-03-01 03:35:53  story_1        0          0     gems     -22   \n",
       "2    13757  2019-03-01 03:52:10  story_2        0          0     gems     -22   \n",
       "3    10009  2019-03-01 04:10:00  story_1        0          0     gems     -22   \n",
       "4    10009  2019-03-01 04:26:46  story_2        0          0     gems     -22   \n",
       "\n",
       "   year  month  day  \n",
       "0  2019      3    1  \n",
       "1  2019      3    1  \n",
       "2  2019      3    1  \n",
       "3  2019      3    1  \n",
       "4  2019      3    1  "
      ]
     },
     "execution_count": 45,
     "metadata": {},
     "output_type": "execute_result"
    }
   ],
   "source": [
    "#Dropping 'date' column\n",
    "gem3.drop('date', axis = 1, inplace = True)\n",
    "gem3.head()"
   ]
  },
  {
   "cell_type": "markdown",
   "metadata": {},
   "source": [
    "The **'ts'** feature contains both data and time. We already have date components, so we would extract time components and drop this column for reducing feature cardinality again."
   ]
  },
  {
   "cell_type": "code",
   "execution_count": 46,
   "metadata": {},
   "outputs": [],
   "source": [
    "#converting 'ts' column to datetime column\n",
    "gem3['ts'] = pd.to_datetime(gem3['ts'])"
   ]
  },
  {
   "cell_type": "code",
   "execution_count": 47,
   "metadata": {},
   "outputs": [],
   "source": [
    "#separating time components\n",
    "gem3['hour'] = gem3['ts'].dt.hour\n",
    "gem3['minute'] = gem3['ts'].dt.minute\n",
    "gem3['second'] = gem3['ts'].dt.second"
   ]
  },
  {
   "cell_type": "code",
   "execution_count": 48,
   "metadata": {},
   "outputs": [
    {
     "data": {
      "text/html": [
       "<div>\n",
       "<style scoped>\n",
       "    .dataframe tbody tr th:only-of-type {\n",
       "        vertical-align: middle;\n",
       "    }\n",
       "\n",
       "    .dataframe tbody tr th {\n",
       "        vertical-align: top;\n",
       "    }\n",
       "\n",
       "    .dataframe thead th {\n",
       "        text-align: right;\n",
       "    }\n",
       "</style>\n",
       "<table border=\"1\" class=\"dataframe\">\n",
       "  <thead>\n",
       "    <tr style=\"text-align: right;\">\n",
       "      <th></th>\n",
       "      <th>user_id</th>\n",
       "      <th>story</th>\n",
       "      <th>chapter</th>\n",
       "      <th>spendtype</th>\n",
       "      <th>currency</th>\n",
       "      <th>amount</th>\n",
       "      <th>year</th>\n",
       "      <th>month</th>\n",
       "      <th>day</th>\n",
       "      <th>hour</th>\n",
       "      <th>minute</th>\n",
       "      <th>second</th>\n",
       "    </tr>\n",
       "  </thead>\n",
       "  <tbody>\n",
       "    <tr>\n",
       "      <th>0</th>\n",
       "      <td>9829</td>\n",
       "      <td>story_1</td>\n",
       "      <td>0</td>\n",
       "      <td>0</td>\n",
       "      <td>gems</td>\n",
       "      <td>-22</td>\n",
       "      <td>2019</td>\n",
       "      <td>3</td>\n",
       "      <td>1</td>\n",
       "      <td>3</td>\n",
       "      <td>3</td>\n",
       "      <td>4</td>\n",
       "    </tr>\n",
       "    <tr>\n",
       "      <th>1</th>\n",
       "      <td>13757</td>\n",
       "      <td>story_1</td>\n",
       "      <td>0</td>\n",
       "      <td>0</td>\n",
       "      <td>gems</td>\n",
       "      <td>-22</td>\n",
       "      <td>2019</td>\n",
       "      <td>3</td>\n",
       "      <td>1</td>\n",
       "      <td>3</td>\n",
       "      <td>35</td>\n",
       "      <td>53</td>\n",
       "    </tr>\n",
       "    <tr>\n",
       "      <th>2</th>\n",
       "      <td>13757</td>\n",
       "      <td>story_2</td>\n",
       "      <td>0</td>\n",
       "      <td>0</td>\n",
       "      <td>gems</td>\n",
       "      <td>-22</td>\n",
       "      <td>2019</td>\n",
       "      <td>3</td>\n",
       "      <td>1</td>\n",
       "      <td>3</td>\n",
       "      <td>52</td>\n",
       "      <td>10</td>\n",
       "    </tr>\n",
       "    <tr>\n",
       "      <th>3</th>\n",
       "      <td>10009</td>\n",
       "      <td>story_1</td>\n",
       "      <td>0</td>\n",
       "      <td>0</td>\n",
       "      <td>gems</td>\n",
       "      <td>-22</td>\n",
       "      <td>2019</td>\n",
       "      <td>3</td>\n",
       "      <td>1</td>\n",
       "      <td>4</td>\n",
       "      <td>10</td>\n",
       "      <td>0</td>\n",
       "    </tr>\n",
       "    <tr>\n",
       "      <th>4</th>\n",
       "      <td>10009</td>\n",
       "      <td>story_2</td>\n",
       "      <td>0</td>\n",
       "      <td>0</td>\n",
       "      <td>gems</td>\n",
       "      <td>-22</td>\n",
       "      <td>2019</td>\n",
       "      <td>3</td>\n",
       "      <td>1</td>\n",
       "      <td>4</td>\n",
       "      <td>26</td>\n",
       "      <td>46</td>\n",
       "    </tr>\n",
       "  </tbody>\n",
       "</table>\n",
       "</div>"
      ],
      "text/plain": [
       "   user_id    story  chapter  spendtype currency  amount  year  month  day  \\\n",
       "0     9829  story_1        0          0     gems     -22  2019      3    1   \n",
       "1    13757  story_1        0          0     gems     -22  2019      3    1   \n",
       "2    13757  story_2        0          0     gems     -22  2019      3    1   \n",
       "3    10009  story_1        0          0     gems     -22  2019      3    1   \n",
       "4    10009  story_2        0          0     gems     -22  2019      3    1   \n",
       "\n",
       "   hour  minute  second  \n",
       "0     3       3       4  \n",
       "1     3      35      53  \n",
       "2     3      52      10  \n",
       "3     4      10       0  \n",
       "4     4      26      46  "
      ]
     },
     "execution_count": 48,
     "metadata": {},
     "output_type": "execute_result"
    }
   ],
   "source": [
    "#dropping 'ts' column\n",
    "gem3.drop('ts', axis = 1, inplace = True)\n",
    "gem3.head()"
   ]
  },
  {
   "cell_type": "code",
   "execution_count": 49,
   "metadata": {},
   "outputs": [
    {
     "data": {
      "text/plain": [
       "gems    106420\n",
       "Name: currency, dtype: int64"
      ]
     },
     "execution_count": 49,
     "metadata": {},
     "output_type": "execute_result"
    }
   ],
   "source": [
    "#checking currency types\n",
    "gem3.currency.value_counts()"
   ]
  },
  {
   "cell_type": "markdown",
   "metadata": {},
   "source": [
    "Since **'currency'** column has only 1 category, we can drop it."
   ]
  },
  {
   "cell_type": "code",
   "execution_count": 50,
   "metadata": {},
   "outputs": [],
   "source": [
    "#dropping 'currency' column\n",
    "gem3.drop('currency', axis = 1, inplace = True)"
   ]
  },
  {
   "cell_type": "code",
   "execution_count": 51,
   "metadata": {},
   "outputs": [
    {
     "data": {
      "text/html": [
       "<div>\n",
       "<style scoped>\n",
       "    .dataframe tbody tr th:only-of-type {\n",
       "        vertical-align: middle;\n",
       "    }\n",
       "\n",
       "    .dataframe tbody tr th {\n",
       "        vertical-align: top;\n",
       "    }\n",
       "\n",
       "    .dataframe thead th {\n",
       "        text-align: right;\n",
       "    }\n",
       "</style>\n",
       "<table border=\"1\" class=\"dataframe\">\n",
       "  <thead>\n",
       "    <tr style=\"text-align: right;\">\n",
       "      <th></th>\n",
       "      <th>user_id</th>\n",
       "      <th>story</th>\n",
       "      <th>chapter</th>\n",
       "      <th>spendtype</th>\n",
       "      <th>amount</th>\n",
       "      <th>year</th>\n",
       "      <th>month</th>\n",
       "      <th>day</th>\n",
       "      <th>hour</th>\n",
       "      <th>minute</th>\n",
       "      <th>second</th>\n",
       "    </tr>\n",
       "  </thead>\n",
       "  <tbody>\n",
       "    <tr>\n",
       "      <th>0</th>\n",
       "      <td>9829</td>\n",
       "      <td>story_1</td>\n",
       "      <td>0</td>\n",
       "      <td>0</td>\n",
       "      <td>-22</td>\n",
       "      <td>2019</td>\n",
       "      <td>3</td>\n",
       "      <td>1</td>\n",
       "      <td>3</td>\n",
       "      <td>3</td>\n",
       "      <td>4</td>\n",
       "    </tr>\n",
       "    <tr>\n",
       "      <th>1</th>\n",
       "      <td>13757</td>\n",
       "      <td>story_1</td>\n",
       "      <td>0</td>\n",
       "      <td>0</td>\n",
       "      <td>-22</td>\n",
       "      <td>2019</td>\n",
       "      <td>3</td>\n",
       "      <td>1</td>\n",
       "      <td>3</td>\n",
       "      <td>35</td>\n",
       "      <td>53</td>\n",
       "    </tr>\n",
       "    <tr>\n",
       "      <th>2</th>\n",
       "      <td>13757</td>\n",
       "      <td>story_2</td>\n",
       "      <td>0</td>\n",
       "      <td>0</td>\n",
       "      <td>-22</td>\n",
       "      <td>2019</td>\n",
       "      <td>3</td>\n",
       "      <td>1</td>\n",
       "      <td>3</td>\n",
       "      <td>52</td>\n",
       "      <td>10</td>\n",
       "    </tr>\n",
       "    <tr>\n",
       "      <th>3</th>\n",
       "      <td>10009</td>\n",
       "      <td>story_1</td>\n",
       "      <td>0</td>\n",
       "      <td>0</td>\n",
       "      <td>-22</td>\n",
       "      <td>2019</td>\n",
       "      <td>3</td>\n",
       "      <td>1</td>\n",
       "      <td>4</td>\n",
       "      <td>10</td>\n",
       "      <td>0</td>\n",
       "    </tr>\n",
       "    <tr>\n",
       "      <th>4</th>\n",
       "      <td>10009</td>\n",
       "      <td>story_2</td>\n",
       "      <td>0</td>\n",
       "      <td>0</td>\n",
       "      <td>-22</td>\n",
       "      <td>2019</td>\n",
       "      <td>3</td>\n",
       "      <td>1</td>\n",
       "      <td>4</td>\n",
       "      <td>26</td>\n",
       "      <td>46</td>\n",
       "    </tr>\n",
       "    <tr>\n",
       "      <th>5</th>\n",
       "      <td>14151</td>\n",
       "      <td>story_1</td>\n",
       "      <td>0</td>\n",
       "      <td>0</td>\n",
       "      <td>-22</td>\n",
       "      <td>2019</td>\n",
       "      <td>3</td>\n",
       "      <td>1</td>\n",
       "      <td>6</td>\n",
       "      <td>38</td>\n",
       "      <td>33</td>\n",
       "    </tr>\n",
       "    <tr>\n",
       "      <th>6</th>\n",
       "      <td>10799</td>\n",
       "      <td>story_1</td>\n",
       "      <td>0</td>\n",
       "      <td>0</td>\n",
       "      <td>-22</td>\n",
       "      <td>2019</td>\n",
       "      <td>3</td>\n",
       "      <td>2</td>\n",
       "      <td>8</td>\n",
       "      <td>8</td>\n",
       "      <td>26</td>\n",
       "    </tr>\n",
       "  </tbody>\n",
       "</table>\n",
       "</div>"
      ],
      "text/plain": [
       "   user_id    story  chapter  spendtype  amount  year  month  day  hour  \\\n",
       "0     9829  story_1        0          0     -22  2019      3    1     3   \n",
       "1    13757  story_1        0          0     -22  2019      3    1     3   \n",
       "2    13757  story_2        0          0     -22  2019      3    1     3   \n",
       "3    10009  story_1        0          0     -22  2019      3    1     4   \n",
       "4    10009  story_2        0          0     -22  2019      3    1     4   \n",
       "5    14151  story_1        0          0     -22  2019      3    1     6   \n",
       "6    10799  story_1        0          0     -22  2019      3    2     8   \n",
       "\n",
       "   minute  second  \n",
       "0       3       4  \n",
       "1      35      53  \n",
       "2      52      10  \n",
       "3      10       0  \n",
       "4      26      46  \n",
       "5      38      33  \n",
       "6       8      26  "
      ]
     },
     "execution_count": 51,
     "metadata": {},
     "output_type": "execute_result"
    }
   ],
   "source": [
    "#fetching rows\n",
    "gem3.head(7)"
   ]
  },
  {
   "cell_type": "code",
   "execution_count": 52,
   "metadata": {},
   "outputs": [
    {
     "data": {
      "text/plain": [
       "user_id       int64\n",
       "story        object\n",
       "chapter       int64\n",
       "spendtype     int64\n",
       "amount        int64\n",
       "year          int64\n",
       "month         int64\n",
       "day           int64\n",
       "hour          int64\n",
       "minute        int64\n",
       "second        int64\n",
       "dtype: object"
      ]
     },
     "execution_count": 52,
     "metadata": {},
     "output_type": "execute_result"
    }
   ],
   "source": [
    "#checking data types\n",
    "gem3.dtypes"
   ]
  },
  {
   "cell_type": "code",
   "execution_count": 53,
   "metadata": {},
   "outputs": [
    {
     "data": {
      "text/plain": [
       "<matplotlib.axes._subplots.AxesSubplot at 0x1e3e848e250>"
      ]
     },
     "execution_count": 53,
     "metadata": {},
     "output_type": "execute_result"
    },
    {
     "data": {
      "image/png": "[encoded data removed]",
      "text/plain": [
       "<Figure size 432x288 with 1 Axes>"
      ]
     },
     "metadata": {
      "needs_background": "light"
     },
     "output_type": "display_data"
    }
   ],
   "source": [
    "#exploring target variable distribution\n",
    "gem3['spendtype'].value_counts().plot(kind = 'bar')"
   ]
  },
  {
   "cell_type": "code",
   "execution_count": 54,
   "metadata": {},
   "outputs": [],
   "source": [
    "# Instantiating LabelEncoder\n",
    "le = LabelEncoder()\n",
    "gem3['story'] = le.fit_transform(gem3['story'])"
   ]
  },
  {
   "cell_type": "code",
   "execution_count": 55,
   "metadata": {},
   "outputs": [],
   "source": [
    "# Splitting Predictor Variables and Target Variable\n",
    "X = gem3.drop(['spendtype'], axis = 1)\n",
    "y = gem3['spendtype']"
   ]
  },
  {
   "cell_type": "code",
   "execution_count": 56,
   "metadata": {},
   "outputs": [],
   "source": [
    "#train-test splitting data\n",
    "X_train, X_test, y_train, y_test = train_test_split(X, y, test_size = 0.2, random_state = 0)"
   ]
  },
  {
   "cell_type": "code",
   "execution_count": 57,
   "metadata": {},
   "outputs": [
    {
     "name": "stdout",
     "output_type": "stream",
     "text": [
      "Training Data Length: 85136\n",
      "Testing Data Length: 21284\n"
     ]
    }
   ],
   "source": [
    "#checking Train and Test data length\n",
    "print(\"Training Data Length: {}\".format(len(X_train)))\n",
    "print(\"Testing Data Length: {}\".format(len(X_test)))"
   ]
  },
  {
   "cell_type": "code",
   "execution_count": 58,
   "metadata": {},
   "outputs": [],
   "source": [
    "#Feature Scaling\n",
    "scaler = StandardScaler()\n",
    "X_train = scaler.fit_transform(X_train)\n",
    "X_test = scaler.transform(X_test)"
   ]
  },
  {
   "cell_type": "code",
   "execution_count": 59,
   "metadata": {},
   "outputs": [
    {
     "data": {
      "text/plain": [
       "LogisticRegression(random_state=0, solver='liblinear')"
      ]
     },
     "execution_count": 59,
     "metadata": {},
     "output_type": "execute_result"
    }
   ],
   "source": [
    "#Logistic Regression Model Training\n",
    "classifier_logreg = LogisticRegression(solver = 'liblinear', random_state = 0)\n",
    "classifier_logreg.fit(X_train, y_train)"
   ]
  },
  {
   "cell_type": "code",
   "execution_count": 60,
   "metadata": {},
   "outputs": [
    {
     "data": {
      "text/plain": [
       "array([0, 0, 0, ..., 0, 0, 0], dtype=int64)"
      ]
     },
     "execution_count": 60,
     "metadata": {},
     "output_type": "execute_result"
    }
   ],
   "source": [
    "#Model Predictions\n",
    "y_pred = classifier_logreg.predict(X_test)\n",
    "y_pred"
   ]
  },
  {
   "cell_type": "code",
   "execution_count": 61,
   "metadata": {},
   "outputs": [
    {
     "name": "stdout",
     "output_type": "stream",
     "text": [
      "Accuracy Score: 0.8715467017477918\n"
     ]
    }
   ],
   "source": [
    "#Evaluating Model Performance\n",
    "print('Accuracy Score: {}'.format(accuracy_score(y_test, y_pred)))"
   ]
  },
  {
   "cell_type": "code",
   "execution_count": 62,
   "metadata": {},
   "outputs": [
    {
     "name": "stdout",
     "output_type": "stream",
     "text": [
      "[[18166   315]\n",
      " [ 2419   384]]\n"
     ]
    }
   ],
   "source": [
    "#Confusion Matrix\n",
    "print(confusion_matrix(y_test, y_pred))"
   ]
  },
  {
   "cell_type": "code",
   "execution_count": 63,
   "metadata": {},
   "outputs": [],
   "source": [
    "#Evaluating results\n",
    "acc = accuracy_score(y_test, y_pred )\n",
    "prec = precision_score(y_test, y_pred )\n",
    "rec = recall_score(y_test, y_pred )\n",
    "f1 = f1_score(y_test, y_pred )\n",
    "f2 = fbeta_score(y_test, y_pred, beta=2.0)"
   ]
  },
  {
   "cell_type": "code",
   "execution_count": 64,
   "metadata": {},
   "outputs": [],
   "source": [
    "#setting dataframce for storing results\n",
    "results = pd.DataFrame([['Logistic Regression', \n",
    "acc, prec, rec, f1, f2]], columns = ['Model', \n",
    "'Accuracy', 'Precision', 'Recall', 'F1 Score', \n",
    "'F2 Score'])"
   ]
  },
  {
   "cell_type": "code",
   "execution_count": 65,
   "metadata": {},
   "outputs": [
    {
     "name": "stdout",
     "output_type": "stream",
     "text": [
      "                 Model  Accuracy  Precision    Recall  F1 Score  F2 Score\n",
      "0  Logistic Regression  0.871547   0.549356  0.136996  0.219303  0.161196\n"
     ]
    }
   ],
   "source": [
    "#sorting results\n",
    "results = results.sort_values([\"Precision\", \n",
    "\"Recall\", \"F2 Score\"], ascending = False)\n",
    "print (results)"
   ]
  },
  {
   "cell_type": "code",
   "execution_count": 66,
   "metadata": {},
   "outputs": [
    {
     "name": "stdout",
     "output_type": "stream",
     "text": [
      "Cross-validation scores: [0.86645525 0.86785693 0.86961884 0.86838551 0.86879662]\n",
      "Average cross-validation score: 0.8682226292917111\n"
     ]
    }
   ],
   "source": [
    "#Cross Validation\n",
    "scores = cross_val_score(classifier_logreg, X_train, y_train, cv = 5, scoring = 'accuracy')\n",
    "print('Cross-validation scores: {}'.format(scores))\n",
    "print('Average cross-validation score: {}'.format(scores.mean()))"
   ]
  },
  {
   "cell_type": "code",
   "execution_count": 67,
   "metadata": {},
   "outputs": [
    {
     "data": {
      "text/plain": [
       "array([[0.92451886, 0.07548114],\n",
       "       [0.51907194, 0.48092806],\n",
       "       [0.86152259, 0.13847741],\n",
       "       ...,\n",
       "       [0.95572805, 0.04427195],\n",
       "       [0.9318477 , 0.0681523 ],\n",
       "       [0.92528992, 0.07471008]])"
      ]
     },
     "execution_count": 67,
     "metadata": {},
     "output_type": "execute_result"
    }
   ],
   "source": [
    "#Prediction Probability of user's conversion\n",
    "classifier_logreg.predict_proba(X_test)"
   ]
  },
  {
   "cell_type": "markdown",
   "metadata": {},
   "source": [
    "### Comparing with other Classification Algorithms"
   ]
  },
  {
   "cell_type": "markdown",
   "metadata": {},
   "source": [
    "### K-Nearest Neighbors"
   ]
  },
  {
   "cell_type": "code",
   "execution_count": 68,
   "metadata": {},
   "outputs": [
    {
     "data": {
      "text/plain": [
       "KNeighborsClassifier(n_neighbors=22)"
      ]
     },
     "execution_count": 68,
     "metadata": {},
     "output_type": "execute_result"
    }
   ],
   "source": [
    "# Fitting KNN to the Training set:\n",
    "classifier = KNeighborsClassifier(\n",
    "n_neighbors = 22, \n",
    "metric = 'minkowski', p = 2)\n",
    "classifier.fit(X_train, y_train)"
   ]
  },
  {
   "cell_type": "code",
   "execution_count": 69,
   "metadata": {},
   "outputs": [],
   "source": [
    "# Predicting the Test set results \n",
    "y_pred  = classifier.predict(X_test)"
   ]
  },
  {
   "cell_type": "code",
   "execution_count": 70,
   "metadata": {},
   "outputs": [],
   "source": [
    "#Evaluate results\n",
    "acc = accuracy_score(y_test, y_pred )\n",
    "prec = precision_score(y_test, y_pred )\n",
    "rec = recall_score(y_test, y_pred )\n",
    "f1 = f1_score(y_test, y_pred )\n",
    "f2 = fbeta_score(y_test, y_pred, beta=2.0)"
   ]
  },
  {
   "cell_type": "code",
   "execution_count": 71,
   "metadata": {},
   "outputs": [],
   "source": [
    "#storing model results in dataframe\n",
    "model_results = pd.DataFrame([['K-Nearest Neighbours', \n",
    "acc, prec, rec, f1, f2]], columns = ['Model', \n",
    "'Accuracy', 'Precision', 'Recall', 'F1 Score', \n",
    "'F2 Score'])"
   ]
  },
  {
   "cell_type": "code",
   "execution_count": 72,
   "metadata": {},
   "outputs": [
    {
     "name": "stdout",
     "output_type": "stream",
     "text": [
      "                  Model  Accuracy  Precision    Recall  F1 Score  F2 Score\n",
      "1  K-Nearest Neighbours  0.906503   0.708141  0.493400  0.581581  0.525256\n",
      "0   Logistic Regression  0.871547   0.549356  0.136996  0.219303  0.161196\n"
     ]
    }
   ],
   "source": [
    "#adding new model results to results dataframe\n",
    "results = results.append(model_results, ignore_index = True)\n",
    "results = results.sort_values([\"Precision\", \n",
    "\"Recall\", \"F2 Score\"], ascending = False)\n",
    "print (results)"
   ]
  },
  {
   "cell_type": "code",
   "execution_count": 73,
   "metadata": {},
   "outputs": [
    {
     "data": {
      "text/plain": [
       "array([[0.72727273, 0.27272727],\n",
       "       [0.36363636, 0.63636364],\n",
       "       [0.81818182, 0.18181818],\n",
       "       ...,\n",
       "       [1.        , 0.        ],\n",
       "       [1.        , 0.        ],\n",
       "       [0.86363636, 0.13636364]])"
      ]
     },
     "execution_count": 73,
     "metadata": {},
     "output_type": "execute_result"
    }
   ],
   "source": [
    "#Prediction Probability of user's conversion\n",
    "classifier.predict_proba(X_test)"
   ]
  },
  {
   "cell_type": "markdown",
   "metadata": {},
   "source": [
    "### Naive Bayes"
   ]
  },
  {
   "cell_type": "code",
   "execution_count": 74,
   "metadata": {},
   "outputs": [
    {
     "data": {
      "text/plain": [
       "GaussianNB()"
      ]
     },
     "execution_count": 74,
     "metadata": {},
     "output_type": "execute_result"
    }
   ],
   "source": [
    "# Fitting Naive Byes to the Training set:\n",
    "classifier = GaussianNB()\n",
    "classifier.fit(X_train, y_train)"
   ]
  },
  {
   "cell_type": "code",
   "execution_count": 75,
   "metadata": {},
   "outputs": [],
   "source": [
    "#Evaluate results\n",
    "acc = accuracy_score(y_test, y_pred )\n",
    "prec = precision_score(y_test, y_pred )\n",
    "rec = recall_score(y_test, y_pred )\n",
    "f1 = f1_score(y_test, y_pred )\n",
    "f2 = fbeta_score(y_test, y_pred, beta=2.0)"
   ]
  },
  {
   "cell_type": "code",
   "execution_count": 76,
   "metadata": {},
   "outputs": [],
   "source": [
    "#storing model results in dataframe\n",
    "model_results = pd.DataFrame([[\n",
    "'Naive Bayes', acc, prec, rec, f1, f2]],\n",
    "columns = ['Model', 'Accuracy', 'Precision',\n",
    "'Recall', 'F1 Score', 'F2 Score'])"
   ]
  },
  {
   "cell_type": "code",
   "execution_count": 77,
   "metadata": {},
   "outputs": [
    {
     "name": "stdout",
     "output_type": "stream",
     "text": [
      "                  Model  Accuracy  Precision    Recall  F1 Score  F2 Score\n",
      "0  K-Nearest Neighbours  0.906503   0.708141  0.493400  0.581581  0.525256\n",
      "2           Naive Bayes  0.906503   0.708141  0.493400  0.581581  0.525256\n",
      "1   Logistic Regression  0.871547   0.549356  0.136996  0.219303  0.161196\n"
     ]
    }
   ],
   "source": [
    "#appending model results in results dataframe\n",
    "results = results.append(model_results, ignore_index = True)\n",
    "results = results.sort_values([\"Precision\", \n",
    "\"Recall\", \"F2 Score\"], ascending = False)\n",
    "print (results)"
   ]
  },
  {
   "cell_type": "code",
   "execution_count": 85,
   "metadata": {},
   "outputs": [
    {
     "data": {
      "text/html": [
       "<div>\n",
       "<style scoped>\n",
       "    .dataframe tbody tr th:only-of-type {\n",
       "        vertical-align: middle;\n",
       "    }\n",
       "\n",
       "    .dataframe tbody tr th {\n",
       "        vertical-align: top;\n",
       "    }\n",
       "\n",
       "    .dataframe thead th {\n",
       "        text-align: right;\n",
       "    }\n",
       "</style>\n",
       "<table border=\"1\" class=\"dataframe\">\n",
       "  <thead>\n",
       "    <tr style=\"text-align: right;\">\n",
       "      <th></th>\n",
       "      <th>index</th>\n",
       "      <th>Model</th>\n",
       "      <th>Accuracy</th>\n",
       "      <th>Precision</th>\n",
       "      <th>Recall</th>\n",
       "      <th>F1 Score</th>\n",
       "      <th>F2 Score</th>\n",
       "    </tr>\n",
       "  </thead>\n",
       "  <tbody>\n",
       "    <tr>\n",
       "      <th>0</th>\n",
       "      <td>0</td>\n",
       "      <td>K-Nearest Neighbours</td>\n",
       "      <td>0.906503</td>\n",
       "      <td>0.708141</td>\n",
       "      <td>0.493400</td>\n",
       "      <td>0.581581</td>\n",
       "      <td>0.525256</td>\n",
       "    </tr>\n",
       "    <tr>\n",
       "      <th>1</th>\n",
       "      <td>1</td>\n",
       "      <td>Naive Bayes</td>\n",
       "      <td>0.906503</td>\n",
       "      <td>0.708141</td>\n",
       "      <td>0.493400</td>\n",
       "      <td>0.581581</td>\n",
       "      <td>0.525256</td>\n",
       "    </tr>\n",
       "    <tr>\n",
       "      <th>2</th>\n",
       "      <td>2</td>\n",
       "      <td>Logistic Regression</td>\n",
       "      <td>0.871547</td>\n",
       "      <td>0.549356</td>\n",
       "      <td>0.136996</td>\n",
       "      <td>0.219303</td>\n",
       "      <td>0.161196</td>\n",
       "    </tr>\n",
       "  </tbody>\n",
       "</table>\n",
       "</div>"
      ],
      "text/plain": [
       "   index                 Model  Accuracy  Precision    Recall  F1 Score  \\\n",
       "0      0  K-Nearest Neighbours  0.906503   0.708141  0.493400  0.581581   \n",
       "1      1           Naive Bayes  0.906503   0.708141  0.493400  0.581581   \n",
       "2      2   Logistic Regression  0.871547   0.549356  0.136996  0.219303   \n",
       "\n",
       "   F2 Score  \n",
       "0  0.525256  \n",
       "1  0.525256  \n",
       "2  0.161196  "
      ]
     },
     "execution_count": 85,
     "metadata": {},
     "output_type": "execute_result"
    }
   ],
   "source": [
    "results.reset_index(inplace = True)\n",
    "results"
   ]
  },
  {
   "cell_type": "code",
   "execution_count": 86,
   "metadata": {},
   "outputs": [
    {
     "data": {
      "text/plain": [
       "array([[2.98647574e-03, 9.97013524e-01],\n",
       "       [4.15103569e-04, 9.99584896e-01],\n",
       "       [5.40353713e-03, 9.94596463e-01],\n",
       "       ...,\n",
       "       [9.17728476e-02, 9.08227152e-01],\n",
       "       [6.42585900e-01, 3.57414100e-01],\n",
       "       [6.15624526e-01, 3.84375474e-01]])"
      ]
     },
     "execution_count": 86,
     "metadata": {},
     "output_type": "execute_result"
    }
   ],
   "source": [
    "#Prediction Probability of user's conversion\n",
    "classifier.predict_proba(X_test)"
   ]
  },
  {
   "cell_type": "markdown",
   "metadata": {},
   "source": [
    "###  Saving Model and Scaling Object"
   ]
  },
  {
   "cell_type": "code",
   "execution_count": null,
   "metadata": {},
   "outputs": [],
   "source": [
    "#saving model and scaling object\n",
    "import pickle\n",
    "with open('scaler.pkl', 'wb') as file:\n",
    "    pickle.dump(scaler, file)"
   ]
  },
  {
   "cell_type": "code",
   "execution_count": null,
   "metadata": {},
   "outputs": [],
   "source": [
    "with open('logreg.pkl', 'wb') as file:\n",
    "    pickle.dump(classifier, file)"
   ]
  }
 ],
 "metadata": {
  "kernelspec": {
   "display_name": "Python 3",
   "language": "python",
   "name": "python3"
  },
  "language_info": {
   "codemirror_mode": {
    "name": "ipython",
    "version": 3
   },
   "file_extension": ".py",
   "mimetype": "text/x-python",
   "name": "python",
   "nbconvert_exporter": "python",
   "pygments_lexer": "ipython3",
   "version": "3.8.3"
  }
 },
 "nbformat": 4,
 "nbformat_minor": 4
}
